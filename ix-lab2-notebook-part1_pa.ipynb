{
 "cells": [
  {
   "cell_type": "markdown",
   "metadata": {},
   "source": [
    "# Networks: structure, evolution & processes\n",
    "**Internet Analytics - Lab 2**\n",
    "\n",
    "---\n",
    "\n",
    "**Group:** L\n",
    "\n",
    "**Names:**\n",
    "\n",
    "* Lee, Pierre-Alexandre Wen Hao Loïs\n",
    "* Monbaron, Aurélien Ken\n",
    "* Wagner, Patrik Alexander\n",
    "\n",
    "---\n",
    "\n",
    "#### Instructions\n",
    "\n",
    "*This is a template for part 1 of the lab. Clearly write your answers, comments and interpretations in Markodown cells. Don't forget that you can add $\\LaTeX$ equations in these cells. Feel free to add or remove any cell.*\n",
    "\n",
    "*Please properly comment your code. Code readability will be considered for grading. To avoid long cells of codes in the notebook, you can also embed long python functions and classes in a separate module. Don’t forget to hand in your module if that is the case. In multiple exercises, you are required to come up with your own method to solve various problems. Be creative and clearly motivate and explain your methods. Creativity and clarity will be considered for grading.*"
   ]
  },
  {
   "cell_type": "code",
   "execution_count": 1,
   "metadata": {
    "collapsed": true
   },
   "outputs": [],
   "source": [
    "#import libraries\n",
    "import networkx as nx\n",
    "import numpy as np\n",
    "import scipy\n",
    "from scipy import stats \n",
    "import matplotlib.pyplot as plt"
   ]
  },
  {
   "cell_type": "markdown",
   "metadata": {},
   "source": [
    "---\n",
    "\n",
    "## 2.1 Exploration of real networks\n",
    "\n",
    "#### Exercise 2.1"
   ]
  },
  {
   "cell_type": "code",
   "execution_count": 2,
   "metadata": {
    "collapsed": false
   },
   "outputs": [],
   "source": [
    "G = nx.read_edgelist('../data/network1.csv', comments='#', delimiter=',', nodetype=int, encoding=\"utf-8\")"
   ]
  },
  {
   "cell_type": "code",
   "execution_count": 3,
   "metadata": {
    "collapsed": false
   },
   "outputs": [
    {
     "name": "stdout",
     "output_type": "stream",
     "text": [
      "Number of nodes:  13033\n",
      "Number of edges:  18584\n"
     ]
    }
   ],
   "source": [
    "nb_nodes = nx.number_of_nodes(G)\n",
    "nb_edges = nx.number_of_edges(G)\n",
    "print(\"Number of nodes: \", nb_nodes)\n",
    "print(\"Number of edges: \", nb_edges)"
   ]
  },
  {
   "cell_type": "markdown",
   "metadata": {},
   "source": [
    "#### Exercise 2.2:  Node degree distribution"
   ]
  },
  {
   "cell_type": "code",
   "execution_count": 4,
   "metadata": {
    "collapsed": false
   },
   "outputs": [
    {
     "data": {
      "image/png": "[encoded data removed]",
      "text/plain": [
       "<matplotlib.figure.Figure at 0x12107ba7710>"
      ]
     },
     "metadata": {},
     "output_type": "display_data"
    }
   ],
   "source": [
    "#Poisson distribution\n",
    "def poisson(x, lamb=0.5) :\n",
    "    return np.power(lamb, x) / np.math.factorial(x) * np.math.exp(-lamb)\n",
    "\n",
    "#Degree distribution\n",
    "node_degree = nx.degree_histogram(G)\n",
    "hist = [x/nb_nodes for x in node_degree if x > 0]\n",
    "\n",
    "plt.title('Degree Distribution')\n",
    "plt.xlabel('Degree')\n",
    "plt.ylabel('Frequency')\n",
    "\n",
    "plt.plot(hist[:30], 'bo')\n",
    "plt.plot([poisson(x) for x in range(30)], 'r')\n",
    "plt.show()"
   ]
  },
  {
   "cell_type": "markdown",
   "metadata": {},
   "source": [
    "As we can see on the graph, it is close to a Poisson distribution with lambda=0.5"
   ]
  },
  {
   "cell_type": "markdown",
   "metadata": {},
   "source": [
    "#### Exercise 2.3: Giant component"
   ]
  },
  {
   "cell_type": "code",
   "execution_count": 5,
   "metadata": {
    "collapsed": false
   },
   "outputs": [
    {
     "name": "stdout",
     "output_type": "stream",
     "text": [
      "Number of connected components:  192\n"
     ]
    }
   ],
   "source": [
    "nb_component = nx.number_connected_components(G)\n",
    "print('Number of connected components: ', nb_component)"
   ]
  },
  {
   "cell_type": "code",
   "execution_count": 6,
   "metadata": {
    "collapsed": false
   },
   "outputs": [
    {
     "name": "stdout",
     "output_type": "stream",
     "text": [
      "Size of the biggest component:  12576\n"
     ]
    }
   ],
   "source": [
    "connected_graph = nx.connected_component_subgraphs(G)\n",
    "giant_size = max([len(x) for x in connected_graph])\n",
    "print('Size of the biggest component: ', giant_size)"
   ]
  },
  {
   "cell_type": "markdown",
   "metadata": {},
   "source": [
    "It is obviously a giant component, as it's size is 12576."
   ]
  },
  {
   "cell_type": "markdown",
   "metadata": {},
   "source": [
    "#### Exercise 2.4: Short paths & Small-worlds"
   ]
  },
  {
   "cell_type": "code",
   "execution_count": null,
   "metadata": {
    "collapsed": false
   },
   "outputs": [],
   "source": [
    "path_length = [nx.all_pairs_shortest_path_length(x) for x in nx.connected_component_subgraphs(G)]\n",
    "size = length(path_length)\n",
    "path_hist = nx.histogram(path_length)\n",
    "hist = [x/size for x in path]\n",
    "plt.plot(hist)"
   ]
  },
  {
   "cell_type": "code",
   "execution_count": null,
   "metadata": {
    "collapsed": true
   },
   "outputs": [],
   "source": []
  },
  {
   "cell_type": "markdown",
   "metadata": {},
   "source": [
    "#### Exercise 2.5: Network comparison"
   ]
  },
  {
   "cell_type": "code",
   "execution_count": 7,
   "metadata": {
    "collapsed": true
   },
   "outputs": [],
   "source": [
    "G2 = nx.read_edgelist('../data/network2.csv', comments='#', delimiter=',', nodetype=int, encoding=\"utf-8\")"
   ]
  },
  {
   "cell_type": "code",
   "execution_count": 8,
   "metadata": {
    "collapsed": false
   },
   "outputs": [
    {
     "name": "stdout",
     "output_type": "stream",
     "text": [
      "Number of nodes:  26542\n",
      "Number of edges:  43516\n"
     ]
    }
   ],
   "source": [
    "nb_nodes = nx.number_of_nodes(G2)\n",
    "nb_edges = nx.number_of_edges(G2)\n",
    "print(\"Number of nodes: \", nb_nodes)\n",
    "print(\"Number of edges: \", nb_edges)"
   ]
  },
  {
   "cell_type": "code",
   "execution_count": 45,
   "metadata": {
    "collapsed": false
   },
   "outputs": [
    {
     "data": {
      "image/png": "[encoded data removed]",
      "text/plain": [
       "<matplotlib.figure.Figure at 0x25559197e10>"
      ]
     },
     "metadata": {},
     "output_type": "display_data"
    }
   ],
   "source": [
    "#Binomial distribution\n",
    "def binom(k, n, p) :\n",
    "    return (np.math.factorial(n)/(np.math.factorial(k)*np.math.factorial(n-k))) * np.power(p, k) * np.power(1-p, n-k)\n",
    "\n",
    "#Poisson distribution\n",
    "def poisson(x, lamb=0.9) :\n",
    "    return np.power(lamb, x) / np.math.factorial(x) * np.math.exp(-lamb)\n",
    "\n",
    "#Degree distribution\n",
    "node_degree = nx.degree_histogram(G2)\n",
    "hist = [x/nb_nodes for x in node_degree if x > 0]\n",
    "\n",
    "plt.title('Degree Distribution')\n",
    "plt.xlabel('Degree')\n",
    "plt.ylabel('Frequency')\n",
    "\n",
    "plt.plot(hist[:15], 'bo')\n",
    "#plt.plot([poisson(x) for x in range(30)], 'r')\n",
    "#plt.plot([binom(k, 26542, 0.00003) for k in range(15)], 'r')\n",
    "#plt.plot([stats.chi2.pdf(k, 3) for k in range(16)], 'o')\n",
    "plt.plot([scipy.stats.norm(2.5, 0.6).pdf(k) for k in range(16)], 'r')\n",
    "plt.show()"
   ]
  },
  {
   "cell_type": "code",
   "execution_count": 7,
   "metadata": {
    "collapsed": false
   },
   "outputs": [
    {
     "name": "stdout",
     "output_type": "stream",
     "text": [
      "Number of connected components:  5\n"
     ]
    }
   ],
   "source": [
    "nb_component = nx.number_connected_components(G2)\n",
    "print('Number of connected components: ', nb_component)"
   ]
  },
  {
   "cell_type": "code",
   "execution_count": 8,
   "metadata": {
    "collapsed": false
   },
   "outputs": [
    {
     "name": "stdout",
     "output_type": "stream",
     "text": [
      "Size of the biggest component:  26481\n"
     ]
    }
   ],
   "source": [
    "connected_graph = nx.connected_component_subgraphs(G2)\n",
    "giant_size = max([len(x) for x in connected_graph])\n",
    "print('Size of the biggest component: ', giant_size)"
   ]
  },
  {
   "cell_type": "markdown",
   "metadata": {},
   "source": [
    "#### Exercise 2.6: Network identification"
   ]
  },
  {
   "cell_type": "code",
   "execution_count": null,
   "metadata": {
    "collapsed": true
   },
   "outputs": [],
   "source": []
  }
 ],
 "metadata": {
  "anaconda-cloud": {},
  "kernelspec": {
   "display_name": "Python 3",
   "language": "python",
   "name": "python3"
  },
  "language_info": {
   "codemirror_mode": {
    "name": "ipython",
    "version": 3
   },
   "file_extension": ".py",
   "mimetype": "text/x-python",
   "name": "python",
   "nbconvert_exporter": "python",
   "pygments_lexer": "ipython3",
   "version": "3.6.0"
  }
 },
 "nbformat": 4,
 "nbformat_minor": 2
}
